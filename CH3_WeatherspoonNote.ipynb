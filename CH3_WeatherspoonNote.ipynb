{
 "cells": [
  {
   "cell_type": "code",
   "execution_count": 3,
   "id": "13b63d3f",
   "metadata": {},
   "outputs": [
    {
     "name": "stdout",
     "output_type": "stream",
     "text": [
      "1 hour is 3600 seconds\n"
     ]
    }
   ],
   "source": [
    "seconds_per_hour = 60*60\n",
    "print(f\"1 hour is {seconds_per_hour} seconds\")"
   ]
  },
  {
   "cell_type": "code",
   "execution_count": 2,
   "id": "5978d31b",
   "metadata": {},
   "outputs": [
    {
     "name": "stdout",
     "output_type": "stream",
     "text": [
      "1 day is 86400 seconds\n"
     ]
    }
   ],
   "source": [
    "seconds_per_hour = 60*60\n",
    "seconds_per_day = 24 * seconds_per_hour\n",
    "print(f\"1 day is {seconds_per_day} seconds\")"
   ]
  },
  {
   "cell_type": "code",
   "execution_count": 4,
   "id": "61aa3011",
   "metadata": {},
   "outputs": [
    {
     "name": "stdout",
     "output_type": "stream",
     "text": [
      "The seconds in a day divided by the seconds in an hour is 24.0\n"
     ]
    }
   ],
   "source": [
    "seconds_per_hour = 60*60\n",
    "seconds_per_day = 24 * seconds_per_hour\n",
    "slashed = seconds_per_day/seconds_per_hour\n",
    "print(f\"The seconds in a day divided by the seconds in an hour is {slashed}\")"
   ]
  },
  {
   "cell_type": "code",
   "execution_count": 5,
   "id": "9ad0cd27",
   "metadata": {},
   "outputs": [
    {
     "name": "stdout",
     "output_type": "stream",
     "text": [
      "The seconds in a day divided by the seconds in an hour is 24\n"
     ]
    }
   ],
   "source": [
    "seconds_per_hour = 60*60\n",
    "seconds_per_day = 24 * seconds_per_hour\n",
    "slasherSlashSlasher = seconds_per_day//seconds_per_hour\n",
    "print(f\"The seconds in a day divided by the seconds in an hour is {slasherSlashSlasher}\")"
   ]
  },
  {
   "cell_type": "code",
   "execution_count": null,
   "id": "135bf81e",
   "metadata": {},
   "outputs": [],
   "source": []
  }
 ],
 "metadata": {
  "kernelspec": {
   "display_name": "Python 3 (ipykernel)",
   "language": "python",
   "name": "python3"
  },
  "language_info": {
   "codemirror_mode": {
    "name": "ipython",
    "version": 3
   },
   "file_extension": ".py",
   "mimetype": "text/x-python",
   "name": "python",
   "nbconvert_exporter": "python",
   "pygments_lexer": "ipython3",
   "version": "3.9.12"
  }
 },
 "nbformat": 4,
 "nbformat_minor": 5
}
